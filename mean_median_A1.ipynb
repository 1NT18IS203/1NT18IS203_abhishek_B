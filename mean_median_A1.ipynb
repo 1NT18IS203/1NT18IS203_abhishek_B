{
 "cells": [
  {
   "cell_type": "code",
   "execution_count": 6,
   "metadata": {},
   "outputs": [],
   "source": [
    "import statistics as st\n",
    "import numpy as np\n",
    "import math"
   ]
  },
  {
   "cell_type": "code",
   "execution_count": 7,
   "metadata": {},
   "outputs": [
    {
     "name": "stdout",
     "output_type": "stream",
     "text": [
      "[1, 2, 2, 3, 3, 3]\n",
      "Mean:  2.3333333333333335\n"
     ]
    }
   ],
   "source": [
    "arr1 = [1,2,3,2,3,3]\n",
    "arr1.sort()\n",
    "print(arr1)\n",
    "n = len(arr1)\n",
    "mean = sum(arr1) / len(arr1)\n",
    "print(\"Mean: \", mean)"
   ]
  },
  {
   "cell_type": "code",
   "execution_count": 8,
   "metadata": {},
   "outputs": [
    {
     "name": "stdout",
     "output_type": "stream",
     "text": [
      "3\n"
     ]
    }
   ],
   "source": [
    "i=0\n",
    "j=0\n",
    "prevmax = -1\n",
    "for i in range(len(arr1)):\n",
    "    count = 0\n",
    "    for j in range(len(arr1)):\n",
    "        if(arr1[i] == arr1[j]):\n",
    "            count = count + 1;\n",
    "            if(count > prevmax):\n",
    "                mode = arr1[i]\n",
    "                prevmax = count\n",
    "print(mode)"
   ]
  },
  {
   "cell_type": "code",
   "execution_count": 9,
   "metadata": {},
   "outputs": [
    {
     "name": "stdout",
     "output_type": "stream",
     "text": [
      "\n",
      "Variance:  0.6666666666666666\n",
      "\n",
      "Standard Deviation:  0.816496580927726\n",
      "\n",
      "Min Max Normalisation --> \n",
      "{1: 0.0, 2: 0.5, 3: 1.0}\n",
      "\n",
      "Standardisation --> \n",
      "{1: -1.63, 2: -0.41, 3: 0.82}\n"
     ]
    }
   ],
   "source": [
    "summ = 0\n",
    "for ele in arr1:\n",
    "  summ += pow((mean-ele),2)\n",
    "variance = summ/(len(arr1)-1)\n",
    "std = math.sqrt(variance)\n",
    "print(\"\\nVariance: \", variance)\n",
    "print(\"\\nStandard Deviation: \", std)\n",
    "\n",
    "# Mim-Max Normalisation\n",
    "mini = min(arr1)\n",
    "maxi = max(arr1)\n",
    "norm = []\n",
    "for i in arr1:\n",
    "  nr = (i-mini)/(maxi-mini)\n",
    "  norm.append(round(nr, 2))\n",
    "\n",
    "d1 = dict(zip(arr1, norm))\n",
    "print(\"\\nMin Max Normalisation --> \")\n",
    "print(d1)\n",
    "\n",
    "#Standardisation\n",
    "standardised = []\n",
    "for ele in arr1:\n",
    "  sd = (ele-mean)/std\n",
    "  standardised.append(round(sd, 2))\n",
    "\n",
    "d2 = dict(zip(arr1, standardised))\n",
    "print(\"\\nStandardisation --> \")\n",
    "print(d2)"
   ]
  },
  {
   "cell_type": "code",
   "execution_count": null,
   "metadata": {},
   "outputs": [],
   "source": []
  }
 ],
 "metadata": {
  "kernelspec": {
   "display_name": "Python 3",
   "language": "python",
   "name": "python3"
  },
  "language_info": {
   "codemirror_mode": {
    "name": "ipython",
    "version": 3
   },
   "file_extension": ".py",
   "mimetype": "text/x-python",
   "name": "python",
   "nbconvert_exporter": "python",
   "pygments_lexer": "ipython3",
   "version": "3.7.3"
  }
 },
 "nbformat": 4,
 "nbformat_minor": 2
}
