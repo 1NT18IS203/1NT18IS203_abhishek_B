{
 "cells": [
  {
   "cell_type": "code",
   "execution_count": 1,
   "metadata": {},
   "outputs": [],
   "source": [
    "import pandas as pd\n",
    "import numpy as np\n",
    "from copy import deepcopy\n",
    "import matplotlib.pyplot as plt"
   ]
  },
  {
   "cell_type": "code",
   "execution_count": 12,
   "metadata": {},
   "outputs": [
    {
     "name": "stdout",
     "output_type": "stream",
     "text": [
      "    X1   X2\n",
      "0  5.9  3.2\n",
      "1  4.6  2.9\n",
      "2  6.2  2.8\n",
      "3  4.7  3.2\n",
      "4  5.5  4.2\n",
      "5  5.0  3.0\n",
      "6  4.9  3.1\n",
      "7  6.7  3.1\n",
      "8  5.1  3.8\n",
      "9  6.0  3.0\n"
     ]
    }
   ],
   "source": [
    "k = 3\n",
    "data = pd.read_csv('kmeans.csv')\n",
    "print(data)\n",
    "x1 = data['X1'].values\n",
    "x2 = data['X2'].values\n",
    "X = np.array(list(zip(x1, x2)))"
   ]
  },
  {
   "cell_type": "code",
   "execution_count": 3,
   "metadata": {},
   "outputs": [
    {
     "name": "stdout",
     "output_type": "stream",
     "text": [
      "Initial Centroids: \n",
      " [[0. 0.]\n",
      " [0. 0.]\n",
      " [0. 0.]]\n"
     ]
    }
   ],
   "source": [
    "C_x = [6.2, 6.6 ,6.5]\n",
    "C_y = [3.2, 3.7, 3.0]\n",
    "centroid = np.array(list(zip(C_x, C_y)))\n",
    "centroid_old = np.zeros(centroid.shape)\n",
    "print(\"Initial Centroids: \\n\", centroid_old)"
   ]
  },
  {
   "cell_type": "code",
   "execution_count": 4,
   "metadata": {},
   "outputs": [],
   "source": [
    "def euclidean(a, b, ax=1):\n",
    "  return np.linalg.norm(a-b, axis=ax)"
   ]
  },
  {
   "cell_type": "code",
   "execution_count": 5,
   "metadata": {},
   "outputs": [
    {
     "name": "stdout",
     "output_type": "stream",
     "text": [
      "Initial Clusters [0. 0. 0. 0. 0. 0. 0. 0. 0. 0.]\n",
      "Initial Error ........  12.53714481052205\n"
     ]
    }
   ],
   "source": [
    "clusters = np.zeros(len(X))\n",
    "error = euclidean(centroid, centroid_old, None)\n",
    "print(\"Initial Clusters\", clusters)\n",
    "print(\"Initial Error ........ \", error)"
   ]
  },
  {
   "cell_type": "code",
   "execution_count": 6,
   "metadata": {},
   "outputs": [
    {
     "name": "stdout",
     "output_type": "stream",
     "text": [
      "\n",
      "Centroid after  1  iteration \n",
      " [[5.17142857 3.17142857]\n",
      " [5.5        4.2       ]\n",
      " [6.45       2.95      ]]\n",
      "Error .......  1.588639515498743\n",
      "Clusters:  [0. 0. 2. 0. 1. 0. 0. 2. 0. 0.]\n",
      "\n",
      "Centroid after  2  iteration \n",
      " [[4.8   3.05 ]\n",
      " [5.3   4.   ]\n",
      " [6.2   3.025]]\n",
      "Error .......  0.5484788798419251\n",
      "Clusters:  [2. 0. 2. 0. 1. 0. 0. 2. 1. 2.]\n",
      "\n",
      "Centroid after  3  iteration \n",
      " [[4.8   3.05 ]\n",
      " [5.3   4.   ]\n",
      " [6.2   3.025]]\n",
      "Error .......  0.0\n",
      "Clusters:  [2. 0. 2. 0. 1. 0. 0. 2. 1. 2.]\n"
     ]
    }
   ],
   "source": [
    "iter = 0\n",
    "\n",
    "while error != 0:\n",
    "  iter = iter + 1\n",
    "  for i in range(len(X)):\n",
    "    distances = euclidean(X[i], centroid)\n",
    "    cluster = np.argmin(distances)\n",
    "    clusters[i] = cluster\n",
    "\n",
    "  centroid_old = deepcopy(centroid)\n",
    "  for p in range(k):\n",
    "    points = [X[j] for j in range(len(X)) if clusters[j] == p]\n",
    "    centroid[p] = np.mean(points, axis=0)\n",
    "\n",
    "  print(\"\\nCentroid after \", iter, \" iteration \\n\", centroid)\n",
    "  error = euclidean(centroid, centroid_old, None)\n",
    "  print(\"Error ....... \", error)\n",
    "\n",
    "  print(\"Clusters: \", clusters)\n"
   ]
  },
  {
   "cell_type": "code",
   "execution_count": 7,
   "metadata": {},
   "outputs": [
    {
     "data": {
      "image/png": "[encoded data removed]",
      "text/plain": [
       "<Figure size 432x288 with 1 Axes>"
      ]
     },
     "metadata": {
      "needs_background": "light"
     },
     "output_type": "display_data"
    }
   ],
   "source": [
    "plt.scatter(x1, x2, c=clusters)\n",
    "plt.show()\n"
   ]
  },
  {
   "cell_type": "code",
   "execution_count": null,
   "metadata": {},
   "outputs": [],
   "source": []
  }
 ],
 "metadata": {
  "kernelspec": {
   "display_name": "Python 3",
   "language": "python",
   "name": "python3"
  },
  "language_info": {
   "codemirror_mode": {
    "name": "ipython",
    "version": 3
   },
   "file_extension": ".py",
   "mimetype": "text/x-python",
   "name": "python",
   "nbconvert_exporter": "python",
   "pygments_lexer": "ipython3",
   "version": "3.7.3"
  }
 },
 "nbformat": 4,
 "nbformat_minor": 2
}
