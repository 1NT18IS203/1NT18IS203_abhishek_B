{
 "cells": [
  {
   "cell_type": "code",
   "execution_count": 6,
   "metadata": {},
   "outputs": [
    {
     "name": "stdout",
     "output_type": "stream",
     "text": [
      "Sum Squared Error -->  868.5324469391846\n",
      "\n",
      "Mean Squared Error -->  8.953942751950358\n",
      "\n",
      "Root Mean Squared Error -->  2.9923139460876023\n",
      "\n",
      "Sum of squares total -->  2914.8470516572247\n",
      "\n",
      "Sum of squares regression -->  2046.314604718041\n",
      "\n",
      "R2 Score -->  0.7020315537841401\n",
      "\n",
      " Plotting Graph of Actual vs Predicted \n",
      "\n"
     ]
    },
    {
     "data": {
      "image/png": "[encoded data removed]",
      "text/plain": [
       "<Figure size 432x288 with 1 Axes>"
      ]
     },
     "metadata": {
      "needs_background": "light"
     },
     "output_type": "display_data"
    }
   ],
   "source": [
    "import pandas as pd\n",
    "import numpy as np\n",
    "import statistics as st\n",
    "import matplotlib.pyplot as plt\n",
    "\n",
    "headers = ['X', 'Y']\n",
    "data = pd.read_csv('food_truck.csv', names=headers)\n",
    "X = data['X'].values\n",
    "Y = data['Y'].values\n",
    "\n",
    "# Predicting\n",
    "mx = np.mean(X)\n",
    "my = np.mean(Y)\n",
    "sx = st.stdev(X)\n",
    "sy = st.stdev(Y)\n",
    "\n",
    "r = np.corrcoef(X, Y)[0][1]\n",
    "m = r * (sy/sx)\n",
    "c = my - (m * mx)\n",
    "\n",
    "y_pred = (m * X) + c\n",
    "# Evaluating the predictions\n",
    "error = (Y - y_pred)**2\n",
    "sse = sum(error)\n",
    "print(\"Sum Squared Error --> \", sse)\n",
    "\n",
    "mse = sse/len(Y)\n",
    "print(\"\\nMean Squared Error --> \", mse)\n",
    "\n",
    "rmse = np.sqrt(mse)\n",
    "print(\"\\nRoot Mean Squared Error --> \", rmse)\n",
    "\n",
    "er1 = (Y - my)**2\n",
    "sst = sum(er1)      \n",
    "print(\"\\nSum of squares total --> \", sst)\n",
    "\n",
    "pred_mean = np.mean(y_pred)\n",
    "er2 = (y_pred - pred_mean)**2\n",
    "ssr = sum(er2)      \n",
    "print(\"\\nSum of squares regression --> \", ssr)\n",
    "\n",
    "r_score = ssr/sst\n",
    "print(\"\\nR2 Score --> \", r_score)\n",
    "\n",
    "print(\"\\n Plotting Graph of Actual vs Predicted \\n\")\n",
    "plt.scatter(X, Y, color='g', s=30)\n",
    "plt.plot(X, y_pred, color='r')\n",
    "plt.xlabel('X')\n",
    "plt.ylabel('Y')\n",
    "plt.show()"
   ]
  },
  {
   "cell_type": "code",
   "execution_count": null,
   "metadata": {},
   "outputs": [],
   "source": []
  }
 ],
 "metadata": {
  "kernelspec": {
   "display_name": "Python 3",
   "language": "python",
   "name": "python3"
  },
  "language_info": {
   "codemirror_mode": {
    "name": "ipython",
    "version": 3
   },
   "file_extension": ".py",
   "mimetype": "text/x-python",
   "name": "python",
   "nbconvert_exporter": "python",
   "pygments_lexer": "ipython3",
   "version": "3.7.3"
  }
 },
 "nbformat": 4,
 "nbformat_minor": 2
}
